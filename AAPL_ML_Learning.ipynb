{
  "nbformat": 4,
  "nbformat_minor": 0,
  "metadata": {
    "colab": {
      "name": "AAPL ML Learning.ipynb",
      "provenance": [],
      "authorship_tag": "ABX9TyNLBYEQAOGvfbIEug1/9dN9",
      "include_colab_link": true
    },
    "kernelspec": {
      "name": "python3",
      "display_name": "Python 3"
    }
  },
  "cells": [
    {
      "cell_type": "markdown",
      "metadata": {
        "id": "view-in-github",
        "colab_type": "text"
      },
      "source": [
        "<a href=\"https://colab.research.google.com/github/jacotri77/ML-Stock-Price-Predictor/blob/master/AAPL_ML_Learning.ipynb\" target=\"_parent\"><img src=\"https://colab.research.google.com/assets/colab-badge.svg\" alt=\"Open In Colab\"/></a>"
      ]
    },
    {
      "cell_type": "code",
      "metadata": {
        "id": "kr2xAc2k_Cxm"
      },
      "source": [
        "# Description:  This program uses an artificial recurrent neural network called Long Short Term Memory (LSTM)\n",
        "#               to predict the closing stock price of a corportation ('AAPL') using the past 60 day stock price."
      ],
      "execution_count": null,
      "outputs": []
    },
    {
      "cell_type": "code",
      "metadata": {
        "id": "rWNRSeIR_fYS"
      },
      "source": [
        "#Import the libraries\n",
        "import math\n",
        "import pandas_datareader as web\n",
        "import numpy as np\n",
        "import pandas as pd\n",
        "from sklearn.preprocessing import MinMaxScaler\n",
        "from keras.models import Sequential\n",
        "from keras.layers import Dense, LSTM\n",
        "import matplotlib.pyplot as plt\n",
        "plt.style.use('fivethirtyeight')"
      ],
      "execution_count": 1,
      "outputs": []
    },
    {
      "cell_type": "code",
      "metadata": {
        "colab": {
          "base_uri": "https://localhost:8080/",
          "height": 450
        },
        "id": "TxpYracx__k8",
        "outputId": "c0b4a736-8d0c-487d-f62f-4e73e5eba64c"
      },
      "source": [
        "# get the stock quote\n",
        "df = web.DataReader('AAPL', data_source='yahoo', start='2012-01-01', end='2021-02-28')\n",
        "\n",
        "#show the data\n",
        "df"
      ],
      "execution_count": 5,
      "outputs": [
        {
          "output_type": "execute_result",
          "data": {
            "text/html": [
              "<div>\n",
              "<style scoped>\n",
              "    .dataframe tbody tr th:only-of-type {\n",
              "        vertical-align: middle;\n",
              "    }\n",
              "\n",
              "    .dataframe tbody tr th {\n",
              "        vertical-align: top;\n",
              "    }\n",
              "\n",
              "    .dataframe thead th {\n",
              "        text-align: right;\n",
              "    }\n",
              "</style>\n",
              "<table border=\"1\" class=\"dataframe\">\n",
              "  <thead>\n",
              "    <tr style=\"text-align: right;\">\n",
              "      <th></th>\n",
              "      <th>High</th>\n",
              "      <th>Low</th>\n",
              "      <th>Open</th>\n",
              "      <th>Close</th>\n",
              "      <th>Volume</th>\n",
              "      <th>Adj Close</th>\n",
              "    </tr>\n",
              "    <tr>\n",
              "      <th>Date</th>\n",
              "      <th></th>\n",
              "      <th></th>\n",
              "      <th></th>\n",
              "      <th></th>\n",
              "      <th></th>\n",
              "      <th></th>\n",
              "    </tr>\n",
              "  </thead>\n",
              "  <tbody>\n",
              "    <tr>\n",
              "      <th>2012-01-03</th>\n",
              "      <td>14.732143</td>\n",
              "      <td>14.607143</td>\n",
              "      <td>14.621429</td>\n",
              "      <td>14.686786</td>\n",
              "      <td>302220800.0</td>\n",
              "      <td>12.650659</td>\n",
              "    </tr>\n",
              "    <tr>\n",
              "      <th>2012-01-04</th>\n",
              "      <td>14.810000</td>\n",
              "      <td>14.617143</td>\n",
              "      <td>14.642857</td>\n",
              "      <td>14.765714</td>\n",
              "      <td>260022000.0</td>\n",
              "      <td>12.718646</td>\n",
              "    </tr>\n",
              "    <tr>\n",
              "      <th>2012-01-05</th>\n",
              "      <td>14.948214</td>\n",
              "      <td>14.738214</td>\n",
              "      <td>14.819643</td>\n",
              "      <td>14.929643</td>\n",
              "      <td>271269600.0</td>\n",
              "      <td>12.859850</td>\n",
              "    </tr>\n",
              "    <tr>\n",
              "      <th>2012-01-06</th>\n",
              "      <td>15.098214</td>\n",
              "      <td>14.972143</td>\n",
              "      <td>14.991786</td>\n",
              "      <td>15.085714</td>\n",
              "      <td>318292800.0</td>\n",
              "      <td>12.994284</td>\n",
              "    </tr>\n",
              "    <tr>\n",
              "      <th>2012-01-09</th>\n",
              "      <td>15.276786</td>\n",
              "      <td>15.048214</td>\n",
              "      <td>15.196429</td>\n",
              "      <td>15.061786</td>\n",
              "      <td>394024400.0</td>\n",
              "      <td>12.973674</td>\n",
              "    </tr>\n",
              "    <tr>\n",
              "      <th>...</th>\n",
              "      <td>...</td>\n",
              "      <td>...</td>\n",
              "      <td>...</td>\n",
              "      <td>...</td>\n",
              "      <td>...</td>\n",
              "      <td>...</td>\n",
              "    </tr>\n",
              "    <tr>\n",
              "      <th>2021-02-22</th>\n",
              "      <td>129.720001</td>\n",
              "      <td>125.599998</td>\n",
              "      <td>128.009995</td>\n",
              "      <td>126.000000</td>\n",
              "      <td>103916400.0</td>\n",
              "      <td>126.000000</td>\n",
              "    </tr>\n",
              "    <tr>\n",
              "      <th>2021-02-23</th>\n",
              "      <td>126.709999</td>\n",
              "      <td>118.389999</td>\n",
              "      <td>123.760002</td>\n",
              "      <td>125.860001</td>\n",
              "      <td>158273000.0</td>\n",
              "      <td>125.860001</td>\n",
              "    </tr>\n",
              "    <tr>\n",
              "      <th>2021-02-24</th>\n",
              "      <td>125.559998</td>\n",
              "      <td>122.230003</td>\n",
              "      <td>124.940002</td>\n",
              "      <td>125.349998</td>\n",
              "      <td>111039900.0</td>\n",
              "      <td>125.349998</td>\n",
              "    </tr>\n",
              "    <tr>\n",
              "      <th>2021-02-25</th>\n",
              "      <td>126.459999</td>\n",
              "      <td>120.540001</td>\n",
              "      <td>124.680000</td>\n",
              "      <td>120.989998</td>\n",
              "      <td>148199500.0</td>\n",
              "      <td>120.989998</td>\n",
              "    </tr>\n",
              "    <tr>\n",
              "      <th>2021-02-26</th>\n",
              "      <td>124.849998</td>\n",
              "      <td>121.199997</td>\n",
              "      <td>122.589996</td>\n",
              "      <td>121.260002</td>\n",
              "      <td>164320000.0</td>\n",
              "      <td>121.260002</td>\n",
              "    </tr>\n",
              "  </tbody>\n",
              "</table>\n",
              "<p>2303 rows × 6 columns</p>\n",
              "</div>"
            ],
            "text/plain": [
              "                  High         Low  ...       Volume   Adj Close\n",
              "Date                                ...                         \n",
              "2012-01-03   14.732143   14.607143  ...  302220800.0   12.650659\n",
              "2012-01-04   14.810000   14.617143  ...  260022000.0   12.718646\n",
              "2012-01-05   14.948214   14.738214  ...  271269600.0   12.859850\n",
              "2012-01-06   15.098214   14.972143  ...  318292800.0   12.994284\n",
              "2012-01-09   15.276786   15.048214  ...  394024400.0   12.973674\n",
              "...                ...         ...  ...          ...         ...\n",
              "2021-02-22  129.720001  125.599998  ...  103916400.0  126.000000\n",
              "2021-02-23  126.709999  118.389999  ...  158273000.0  125.860001\n",
              "2021-02-24  125.559998  122.230003  ...  111039900.0  125.349998\n",
              "2021-02-25  126.459999  120.540001  ...  148199500.0  120.989998\n",
              "2021-02-26  124.849998  121.199997  ...  164320000.0  121.260002\n",
              "\n",
              "[2303 rows x 6 columns]"
            ]
          },
          "metadata": {
            "tags": []
          },
          "execution_count": 5
        }
      ]
    },
    {
      "cell_type": "code",
      "metadata": {
        "colab": {
          "base_uri": "https://localhost:8080/"
        },
        "id": "N1sS27j-IlgN",
        "outputId": "635d31fa-3185-4250-aa5d-4fea02b5f298"
      },
      "source": [
        "#get the number of rows and columns in the dataset\n",
        "df.shape"
      ],
      "execution_count": 6,
      "outputs": [
        {
          "output_type": "execute_result",
          "data": {
            "text/plain": [
              "(2303, 6)"
            ]
          },
          "metadata": {
            "tags": []
          },
          "execution_count": 6
        }
      ]
    },
    {
      "cell_type": "code",
      "metadata": {
        "colab": {
          "base_uri": "https://localhost:8080/",
          "height": 518
        },
        "id": "ct3Js6KNItkD",
        "outputId": "84c2f625-5dd0-411f-de0e-0efaedb58040"
      },
      "source": [
        "#Vizualisze the closing price\n",
        "plt.figure(figsize=(16,8))\n",
        "plt.title('Closing Price History')\n",
        "plt.plot(df['Close'])\n",
        "plt.xlabel('Date', fontsize = 18)\n",
        "plt.ylabel('Closing Price USD ($)', fontsize=18)\n",
        "plt.show()"
      ],
      "execution_count": 7,
      "outputs": [
        {
          "output_type": "display_data",
          "data": {
            "image/png": "[encoded data removed]",
            "text/plain": [
              "<Figure size 1152x576 with 1 Axes>"
            ]
          },
          "metadata": {
            "tags": [],
            "needs_background": "light"
          }
        }
      ]
    },
    {
      "cell_type": "code",
      "metadata": {
        "colab": {
          "base_uri": "https://localhost:8080/"
        },
        "id": "IPEMP_ebJmLo",
        "outputId": "d7c08386-1823-4e31-adee-9679062fb388"
      },
      "source": [
        "#Create a new dataframe\n",
        "data=df.filter(['Close'])\n",
        "#convert the dataframe to a numpy array\n",
        "dataset = data.values\n",
        "#get the number of rows to train the model on\n",
        "training_data_len=math.ceil(len(dataset)*.8)\n",
        "training_data_len"
      ],
      "execution_count": 8,
      "outputs": [
        {
          "output_type": "execute_result",
          "data": {
            "text/plain": [
              "1843"
            ]
          },
          "metadata": {
            "tags": []
          },
          "execution_count": 8
        }
      ]
    },
    {
      "cell_type": "code",
      "metadata": {
        "colab": {
          "base_uri": "https://localhost:8080/"
        },
        "id": "DcRr83XlKFcG",
        "outputId": "f2706376-4606-4d7c-8485-b2c2f5a76658"
      },
      "source": [
        "#Scale the data\n",
        "scaler = MinMaxScaler(feature_range=(0,1))\n",
        "scaled_data = scaler.fit_transform(dataset)\n",
        "scaled_data"
      ],
      "execution_count": 9,
      "outputs": [
        {
          "output_type": "execute_result",
          "data": {
            "text/plain": [
              "array([[0.00572147],\n",
              "       [0.00633231],\n",
              "       [0.00760099],\n",
              "       ...,\n",
              "       [0.862165  ],\n",
              "       [0.82842213],\n",
              "       [0.83051175]])"
            ]
          },
          "metadata": {
            "tags": []
          },
          "execution_count": 9
        }
      ]
    },
    {
      "cell_type": "code",
      "metadata": {
        "colab": {
          "base_uri": "https://localhost:8080/"
        },
        "id": "ZrN-rsDEKkCb",
        "outputId": "df572d97-37ce-4302-bc76-3830ea4cf0b5"
      },
      "source": [
        "#Create the traning data set\n",
        "#create the scaled traning data set\n",
        "train_data = scaled_data[0:training_data_len, :]\n",
        "#split the data to x_train and y_train\n",
        "\n",
        "x_train = []\n",
        "y_train = []\n",
        "\n",
        "for i in range(60, len(train_data)):\n",
        "  x_train.append(train_data[i-60:i, 0])\n",
        "  y_train.append(train_data[i, 0])\n",
        "  if i<=60:\n",
        "    print(x_train)\n",
        "    print(y_train)\n",
        "    print()"
      ],
      "execution_count": 11,
      "outputs": [
        {
          "output_type": "stream",
          "text": [
            "[array([0.00572147, 0.00633231, 0.00760099, 0.00880885, 0.00862367,\n",
            "       0.00904103, 0.00885031, 0.00852969, 0.00809297, 0.00944457,\n",
            "       0.0106635 , 0.01028759, 0.00822841, 0.01019361, 0.00825882,\n",
            "       0.01551431, 0.01495322, 0.01568568, 0.01726944, 0.01822855,\n",
            "       0.01814839, 0.01785265, 0.01911303, 0.02029878, 0.02164209,\n",
            "       0.02381183, 0.02836966, 0.02843875, 0.03097611, 0.0328722 ,\n",
            "       0.02961346, 0.03086831, 0.03084343, 0.034362  , 0.03386171,\n",
            "       0.03478765, 0.03645157, 0.03737752, 0.04004478, 0.04198786,\n",
            "       0.04254895, 0.0427452 , 0.03942288, 0.03862131, 0.03874017,\n",
            "       0.04186349, 0.04274244, 0.04463025, 0.04908028, 0.05501734,\n",
            "       0.05390621, 0.05390897, 0.05820147, 0.05954478, 0.05858842,\n",
            "       0.05771501, 0.05680565, 0.05982669, 0.0618997 , 0.06276759])]\n",
            "[0.06062272301844436]\n",
            "\n"
          ],
          "name": "stdout"
        }
      ]
    },
    {
      "cell_type": "code",
      "metadata": {
        "id": "f02cdDr3L8_c"
      },
      "source": [
        "#Convert the x_train and y_train to numpy arrays\n",
        "x_train, y_train = np.array(x_train), np.array(y_train)"
      ],
      "execution_count": 12,
      "outputs": []
    },
    {
      "cell_type": "code",
      "metadata": {
        "colab": {
          "base_uri": "https://localhost:8080/"
        },
        "id": "d0akZ-0oMJb5",
        "outputId": "8ceca82b-04dc-4f36-9dde-ae61d5a25cc5"
      },
      "source": [
        "#Reshape the data\n",
        "\n",
        "x_train = np.reshape(x_train, (x_train.shape[0], x_train.shape[1], 1))\n",
        "x_train.shape"
      ],
      "execution_count": 16,
      "outputs": [
        {
          "output_type": "execute_result",
          "data": {
            "text/plain": [
              "(1783, 60, 1)"
            ]
          },
          "metadata": {
            "tags": []
          },
          "execution_count": 16
        }
      ]
    },
    {
      "cell_type": "code",
      "metadata": {
        "id": "i583_z10MxnC"
      },
      "source": [
        "#build the LSTM model\n",
        "\n",
        "model = Sequential()\n",
        "model.add(LSTM(50, return_sequences=True, input_shape=(x_train.shape[1], 1)))\n",
        "model.add(LSTM(50, return_sequences= False))\n",
        "model.add(Dense(25))\n",
        "model.add(Dense(1))"
      ],
      "execution_count": 20,
      "outputs": []
    },
    {
      "cell_type": "code",
      "metadata": {
        "id": "sdB1GTK3NwTL"
      },
      "source": [
        "#Complile the model\n",
        "model.compile(optimizer='adam', loss='mean_squared_error')"
      ],
      "execution_count": 21,
      "outputs": []
    },
    {
      "cell_type": "code",
      "metadata": {
        "colab": {
          "base_uri": "https://localhost:8080/"
        },
        "id": "7zzmapeoOGqL",
        "outputId": "34f77714-6f20-4866-bab1-201aa5e9e2e6"
      },
      "source": [
        "#train the model\n",
        "model.fit(x_train, y_train, batch_size=1,epochs=1)"
      ],
      "execution_count": 22,
      "outputs": [
        {
          "output_type": "stream",
          "text": [
            "1783/1783 [==============================] - 42s 22ms/step - loss: 0.0011\n"
          ],
          "name": "stdout"
        },
        {
          "output_type": "execute_result",
          "data": {
            "text/plain": [
              "<tensorflow.python.keras.callbacks.History at 0x7f122dc46a50>"
            ]
          },
          "metadata": {
            "tags": []
          },
          "execution_count": 22
        }
      ]
    },
    {
      "cell_type": "code",
      "metadata": {
        "id": "PeSfZzx5PBdk"
      },
      "source": [
        "#Create the testing data set\n",
        "#create a new array containing scaled values from 1783 to 2303\n",
        "test_data = scaled_data[training_data_len - 60:, :]\n",
        "#create the data sets x_test and y_test\n",
        "x_test = []\n",
        "y_test = dataset[training_data_len:, :]\n",
        "\n",
        "for i in range(60, len(test_data)):\n",
        "  x_test.append(test_data[i-60:i, 0])"
      ],
      "execution_count": 23,
      "outputs": []
    },
    {
      "cell_type": "code",
      "metadata": {
        "id": "dAUaBX2aP-FY"
      },
      "source": [
        "#Convert the data into a numpy array\n",
        "x_test = np.array(x_test)"
      ],
      "execution_count": 24,
      "outputs": []
    },
    {
      "cell_type": "code",
      "metadata": {
        "id": "rXgST85uQFWb"
      },
      "source": [
        "#Reshape the data\n",
        "x_test = np.reshape(x_test, (x_test.shape[0], x_test.shape[1], 1))\n",
        "x_test"
      ],
      "execution_count": null,
      "outputs": []
    },
    {
      "cell_type": "code",
      "metadata": {
        "id": "UZpaA7T1QeN-"
      },
      "source": [
        "#Get the models predicted price values\n",
        "predictions = model.predict(x_test)\n",
        "predictions = scaler.inverse_transform(predictions)\n"
      ],
      "execution_count": 27,
      "outputs": []
    },
    {
      "cell_type": "code",
      "metadata": {
        "colab": {
          "base_uri": "https://localhost:8080/"
        },
        "id": "RoURhu7zQ6R7",
        "outputId": "8865f9f0-0e1d-4cfa-f6ba-82fe873a5f85"
      },
      "source": [
        "#Get the root mean squared error (RMSE)\n",
        "rmse = np.sqrt(np.mean(predictions - y_test)**2)\n",
        "rmse"
      ],
      "execution_count": 28,
      "outputs": [
        {
          "output_type": "execute_result",
          "data": {
            "text/plain": [
              "0.7735323035198709"
            ]
          },
          "metadata": {
            "tags": []
          },
          "execution_count": 28
        }
      ]
    },
    {
      "cell_type": "code",
      "metadata": {
        "colab": {
          "base_uri": "https://localhost:8080/",
          "height": 620
        },
        "id": "Jmp-uyc9RuRM",
        "outputId": "d3b14393-7cd7-4065-94f1-0f8b2f8413c7"
      },
      "source": [
        "#plot the data\n",
        "train = data[:training_data_len]\n",
        "valid = data[training_data_len:]\n",
        "valid['Predictions'] = predictions\n",
        "#vizualize the data\n",
        "\n",
        "plt.figure(figsize=(16,8))\n",
        "plt.title('Model')\n",
        "plt.xlabel('Date', fontsize=18)\n",
        "plt.ylabel('Close Price USD ($)', fontsize=18)\n",
        "plt.plot(train['Close'])\n",
        "plt.plot(valid[['Close','Predictions']])\n",
        "plt.legend(['Train', 'Val', 'Predictions'], loc='lower right')\n",
        "plt.show()"
      ],
      "execution_count": 30,
      "outputs": [
        {
          "output_type": "stream",
          "text": [
            "/usr/local/lib/python3.7/dist-packages/ipykernel_launcher.py:4: SettingWithCopyWarning: \n",
            "A value is trying to be set on a copy of a slice from a DataFrame.\n",
            "Try using .loc[row_indexer,col_indexer] = value instead\n",
            "\n",
            "See the caveats in the documentation: https://pandas.pydata.org/pandas-docs/stable/user_guide/indexing.html#returning-a-view-versus-a-copy\n",
            "  after removing the cwd from sys.path.\n"
          ],
          "name": "stderr"
        },
        {
          "output_type": "display_data",
          "data": {
            "image/png": "[encoded data removed]",
            "text/plain": [
              "<Figure size 1152x576 with 1 Axes>"
            ]
          },
          "metadata": {
            "tags": [],
            "needs_background": "light"
          }
        }
      ]
    },
    {
      "cell_type": "code",
      "metadata": {
        "colab": {
          "base_uri": "https://localhost:8080/",
          "height": 450
        },
        "id": "IP1CH-IATEIp",
        "outputId": "a78b5611-322e-4d38-d28c-e9643999be28"
      },
      "source": [
        "#Show the valid price and predicted prices\n",
        "valid"
      ],
      "execution_count": 31,
      "outputs": [
        {
          "output_type": "execute_result",
          "data": {
            "text/html": [
              "<div>\n",
              "<style scoped>\n",
              "    .dataframe tbody tr th:only-of-type {\n",
              "        vertical-align: middle;\n",
              "    }\n",
              "\n",
              "    .dataframe tbody tr th {\n",
              "        vertical-align: top;\n",
              "    }\n",
              "\n",
              "    .dataframe thead th {\n",
              "        text-align: right;\n",
              "    }\n",
              "</style>\n",
              "<table border=\"1\" class=\"dataframe\">\n",
              "  <thead>\n",
              "    <tr style=\"text-align: right;\">\n",
              "      <th></th>\n",
              "      <th>Close</th>\n",
              "      <th>Predictions</th>\n",
              "    </tr>\n",
              "    <tr>\n",
              "      <th>Date</th>\n",
              "      <th></th>\n",
              "      <th></th>\n",
              "    </tr>\n",
              "  </thead>\n",
              "  <tbody>\n",
              "    <tr>\n",
              "      <th>2019-05-02</th>\n",
              "      <td>52.287498</td>\n",
              "      <td>52.821674</td>\n",
              "    </tr>\n",
              "    <tr>\n",
              "      <th>2019-05-03</th>\n",
              "      <td>52.937500</td>\n",
              "      <td>52.980305</td>\n",
              "    </tr>\n",
              "    <tr>\n",
              "      <th>2019-05-06</th>\n",
              "      <td>52.119999</td>\n",
              "      <td>53.213982</td>\n",
              "    </tr>\n",
              "    <tr>\n",
              "      <th>2019-05-07</th>\n",
              "      <td>50.715000</td>\n",
              "      <td>53.399075</td>\n",
              "    </tr>\n",
              "    <tr>\n",
              "      <th>2019-05-08</th>\n",
              "      <td>50.724998</td>\n",
              "      <td>53.414452</td>\n",
              "    </tr>\n",
              "    <tr>\n",
              "      <th>...</th>\n",
              "      <td>...</td>\n",
              "      <td>...</td>\n",
              "    </tr>\n",
              "    <tr>\n",
              "      <th>2021-02-22</th>\n",
              "      <td>126.000000</td>\n",
              "      <td>131.794067</td>\n",
              "    </tr>\n",
              "    <tr>\n",
              "      <th>2021-02-23</th>\n",
              "      <td>125.860001</td>\n",
              "      <td>130.774399</td>\n",
              "    </tr>\n",
              "    <tr>\n",
              "      <th>2021-02-24</th>\n",
              "      <td>125.349998</td>\n",
              "      <td>129.713394</td>\n",
              "    </tr>\n",
              "    <tr>\n",
              "      <th>2021-02-25</th>\n",
              "      <td>120.989998</td>\n",
              "      <td>128.677505</td>\n",
              "    </tr>\n",
              "    <tr>\n",
              "      <th>2021-02-26</th>\n",
              "      <td>121.260002</td>\n",
              "      <td>127.368515</td>\n",
              "    </tr>\n",
              "  </tbody>\n",
              "</table>\n",
              "<p>460 rows × 2 columns</p>\n",
              "</div>"
            ],
            "text/plain": [
              "                 Close  Predictions\n",
              "Date                               \n",
              "2019-05-02   52.287498    52.821674\n",
              "2019-05-03   52.937500    52.980305\n",
              "2019-05-06   52.119999    53.213982\n",
              "2019-05-07   50.715000    53.399075\n",
              "2019-05-08   50.724998    53.414452\n",
              "...                ...          ...\n",
              "2021-02-22  126.000000   131.794067\n",
              "2021-02-23  125.860001   130.774399\n",
              "2021-02-24  125.349998   129.713394\n",
              "2021-02-25  120.989998   128.677505\n",
              "2021-02-26  121.260002   127.368515\n",
              "\n",
              "[460 rows x 2 columns]"
            ]
          },
          "metadata": {
            "tags": []
          },
          "execution_count": 31
        }
      ]
    },
    {
      "cell_type": "code",
      "metadata": {
        "colab": {
          "base_uri": "https://localhost:8080/"
        },
        "id": "cC8H7lDHTUks",
        "outputId": "a63c448b-d72b-472d-f49f-bd367bd2a9b8"
      },
      "source": [
        "#Get the quote\n",
        "apple_quote = web.DataReader('AAPL', data_source='yahoo', start='2012-01-01', end='2021-03-01')\n",
        "#create a new dataframe\n",
        "new_df = apple_quote.filter(['Close'])\n",
        "#Get the last 60 day closing price values and conver the dataframe to an array\n",
        "last_60_days = new_df[-60:].values\n",
        "last_60_days_scaled = scaler.transform(last_60_days)\n",
        "#create an empty list\n",
        "X_test = []\n",
        "#append the past 60 days to the X_test list\n",
        "X_test.append(last_60_days_scaled)\n",
        "#Convert the X_test to a numpy array\n",
        "X_test = np.array(X_test)\n",
        "#reshape the data\n",
        "X_test = np.reshape(X_test, (X_test.shape[0], X_test.shape[1], 1))\n",
        "#get the predicted, scaled price\n",
        "pred_price = model.predict(X_test)\n",
        "#undo the scaling\n",
        "pred_price = scaler.inverse_transform(pred_price)\n",
        "print(pred_price)"
      ],
      "execution_count": 35,
      "outputs": [
        {
          "output_type": "stream",
          "text": [
            "[[125.511955]]\n"
          ],
          "name": "stdout"
        }
      ]
    },
    {
      "cell_type": "code",
      "metadata": {
        "colab": {
          "base_uri": "https://localhost:8080/",
          "height": 111
        },
        "id": "QmvAyVDQVnM1",
        "outputId": "f6144d55-ede2-49d1-8c86-4d361f684834"
      },
      "source": [
        "apple_quote2 = web.DataReader('AAPL', data_source='yahoo', start='2021-03-01', end='2021-03-01')\n",
        "apple_quote2"
      ],
      "execution_count": 36,
      "outputs": [
        {
          "output_type": "execute_result",
          "data": {
            "text/html": [
              "<div>\n",
              "<style scoped>\n",
              "    .dataframe tbody tr th:only-of-type {\n",
              "        vertical-align: middle;\n",
              "    }\n",
              "\n",
              "    .dataframe tbody tr th {\n",
              "        vertical-align: top;\n",
              "    }\n",
              "\n",
              "    .dataframe thead th {\n",
              "        text-align: right;\n",
              "    }\n",
              "</style>\n",
              "<table border=\"1\" class=\"dataframe\">\n",
              "  <thead>\n",
              "    <tr style=\"text-align: right;\">\n",
              "      <th></th>\n",
              "      <th>High</th>\n",
              "      <th>Low</th>\n",
              "      <th>Open</th>\n",
              "      <th>Close</th>\n",
              "      <th>Volume</th>\n",
              "      <th>Adj Close</th>\n",
              "    </tr>\n",
              "    <tr>\n",
              "      <th>Date</th>\n",
              "      <th></th>\n",
              "      <th></th>\n",
              "      <th></th>\n",
              "      <th></th>\n",
              "      <th></th>\n",
              "      <th></th>\n",
              "    </tr>\n",
              "  </thead>\n",
              "  <tbody>\n",
              "    <tr>\n",
              "      <th>2021-03-01</th>\n",
              "      <td>127.93</td>\n",
              "      <td>122.790001</td>\n",
              "      <td>123.75</td>\n",
              "      <td>127.790001</td>\n",
              "      <td>115998300</td>\n",
              "      <td>127.790001</td>\n",
              "    </tr>\n",
              "  </tbody>\n",
              "</table>\n",
              "</div>"
            ],
            "text/plain": [
              "              High         Low    Open       Close     Volume   Adj Close\n",
              "Date                                                                     \n",
              "2021-03-01  127.93  122.790001  123.75  127.790001  115998300  127.790001"
            ]
          },
          "metadata": {
            "tags": []
          },
          "execution_count": 36
        }
      ]
    }
  ]
}